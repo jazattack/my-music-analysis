{
  "nbformat": 4,
  "nbformat_minor": 0,
  "metadata": {
    "colab": {
      "name": "data_cleaning.ipynb",
      "provenance": []
    },
    "kernelspec": {
      "name": "python3",
      "display_name": "Python 3"
    }
  },
  "cells": [
    {
      "cell_type": "markdown",
      "metadata": {
        "id": "Sr8so99VZS8p"
      },
      "source": [
        "#Data Cleaning\n",
        "\n"
      ]
    },
    {
      "cell_type": "code",
      "metadata": {
        "id": "4UR7mSuC9sjO"
      },
      "source": [
        "import pandas as pd"
      ],
      "execution_count": 1,
      "outputs": []
    },
    {
      "cell_type": "code",
      "metadata": {
        "id": "h2AUa_wGi252",
        "outputId": "149b446b-0159-4bad-dd01-23ebf235621d",
        "colab": {
          "base_uri": "https://localhost:8080/",
          "height": 411
        }
      },
      "source": [
        "df = pd.read_csv('/content/final.csv')\n",
        "df.head()"
      ],
      "execution_count": 2,
      "outputs": [
        {
          "output_type": "execute_result",
          "data": {
            "text/html": [
              "<div>\n",
              "<style scoped>\n",
              "    .dataframe tbody tr th:only-of-type {\n",
              "        vertical-align: middle;\n",
              "    }\n",
              "\n",
              "    .dataframe tbody tr th {\n",
              "        vertical-align: top;\n",
              "    }\n",
              "\n",
              "    .dataframe thead th {\n",
              "        text-align: right;\n",
              "    }\n",
              "</style>\n",
              "<table border=\"1\" class=\"dataframe\">\n",
              "  <thead>\n",
              "    <tr style=\"text-align: right;\">\n",
              "      <th></th>\n",
              "      <th>Unnamed: 0</th>\n",
              "      <th>name</th>\n",
              "      <th>endTime</th>\n",
              "      <th>artistName</th>\n",
              "      <th>trackName</th>\n",
              "      <th>msPlayed</th>\n",
              "      <th>datetime</th>\n",
              "      <th>danceability</th>\n",
              "      <th>energy</th>\n",
              "      <th>key</th>\n",
              "      <th>loudness</th>\n",
              "      <th>mode</th>\n",
              "      <th>speechiness</th>\n",
              "      <th>acousticness</th>\n",
              "      <th>instrumentalness</th>\n",
              "      <th>liveness</th>\n",
              "      <th>valence</th>\n",
              "      <th>tempo</th>\n",
              "      <th>type</th>\n",
              "      <th>id</th>\n",
              "      <th>uri</th>\n",
              "      <th>track_href</th>\n",
              "      <th>analysis_url</th>\n",
              "      <th>duration_ms</th>\n",
              "      <th>time_signature</th>\n",
              "    </tr>\n",
              "  </thead>\n",
              "  <tbody>\n",
              "    <tr>\n",
              "      <th>0</th>\n",
              "      <td>0</td>\n",
              "      <td>Closer</td>\n",
              "      <td>2019-10-06 06:15</td>\n",
              "      <td>The Chainsmokers</td>\n",
              "      <td>Closer</td>\n",
              "      <td>246606</td>\n",
              "      <td>2019-10-06 06:15:00</td>\n",
              "      <td>0.748</td>\n",
              "      <td>0.524</td>\n",
              "      <td>8</td>\n",
              "      <td>-5.599</td>\n",
              "      <td>1</td>\n",
              "      <td>0.0338</td>\n",
              "      <td>0.4140</td>\n",
              "      <td>0.000000</td>\n",
              "      <td>0.1110</td>\n",
              "      <td>0.661</td>\n",
              "      <td>95.010</td>\n",
              "      <td>audio_features</td>\n",
              "      <td>7BKLCZ1jbUBVqRi2FVlTVw</td>\n",
              "      <td>spotify:track:7BKLCZ1jbUBVqRi2FVlTVw</td>\n",
              "      <td>https://api.spotify.com/v1/tracks/7BKLCZ1jbUBV...</td>\n",
              "      <td>https://api.spotify.com/v1/audio-analysis/7BKL...</td>\n",
              "      <td>244960</td>\n",
              "      <td>4</td>\n",
              "    </tr>\n",
              "    <tr>\n",
              "      <th>1</th>\n",
              "      <td>1</td>\n",
              "      <td>Sexual</td>\n",
              "      <td>2019-10-06 06:19</td>\n",
              "      <td>NEIKED</td>\n",
              "      <td>Sexual</td>\n",
              "      <td>188888</td>\n",
              "      <td>2019-10-06 06:19:00</td>\n",
              "      <td>0.689</td>\n",
              "      <td>0.680</td>\n",
              "      <td>0</td>\n",
              "      <td>-7.196</td>\n",
              "      <td>0</td>\n",
              "      <td>0.0427</td>\n",
              "      <td>0.3210</td>\n",
              "      <td>0.021100</td>\n",
              "      <td>0.0431</td>\n",
              "      <td>0.646</td>\n",
              "      <td>100.987</td>\n",
              "      <td>audio_features</td>\n",
              "      <td>0r6b45jIxQGsaWU4t6OMol</td>\n",
              "      <td>spotify:track:0r6b45jIxQGsaWU4t6OMol</td>\n",
              "      <td>https://api.spotify.com/v1/tracks/0r6b45jIxQGs...</td>\n",
              "      <td>https://api.spotify.com/v1/audio-analysis/0r6b...</td>\n",
              "      <td>368317</td>\n",
              "      <td>4</td>\n",
              "    </tr>\n",
              "    <tr>\n",
              "      <th>2</th>\n",
              "      <td>2</td>\n",
              "      <td>Electricity (with Dua Lipa)</td>\n",
              "      <td>2019-10-06 06:23</td>\n",
              "      <td>Silk City</td>\n",
              "      <td>Electricity (with Dua Lipa)</td>\n",
              "      <td>238173</td>\n",
              "      <td>2019-10-06 06:23:00</td>\n",
              "      <td>0.588</td>\n",
              "      <td>0.670</td>\n",
              "      <td>0</td>\n",
              "      <td>-6.439</td>\n",
              "      <td>1</td>\n",
              "      <td>0.0473</td>\n",
              "      <td>0.0104</td>\n",
              "      <td>0.000003</td>\n",
              "      <td>0.3380</td>\n",
              "      <td>0.505</td>\n",
              "      <td>118.159</td>\n",
              "      <td>audio_features</td>\n",
              "      <td>5N4erncE7kuUccm7zEmwzk</td>\n",
              "      <td>spotify:track:5N4erncE7kuUccm7zEmwzk</td>\n",
              "      <td>https://api.spotify.com/v1/tracks/5N4erncE7kuU...</td>\n",
              "      <td>https://api.spotify.com/v1/audio-analysis/5N4e...</td>\n",
              "      <td>238173</td>\n",
              "      <td>4</td>\n",
              "    </tr>\n",
              "    <tr>\n",
              "      <th>3</th>\n",
              "      <td>3</td>\n",
              "      <td>Firestone</td>\n",
              "      <td>2019-10-06 06:28</td>\n",
              "      <td>Kygo</td>\n",
              "      <td>Firestone</td>\n",
              "      <td>273684</td>\n",
              "      <td>2019-10-06 06:28:00</td>\n",
              "      <td>0.704</td>\n",
              "      <td>0.634</td>\n",
              "      <td>11</td>\n",
              "      <td>-7.374</td>\n",
              "      <td>0</td>\n",
              "      <td>0.0428</td>\n",
              "      <td>0.3930</td>\n",
              "      <td>0.000032</td>\n",
              "      <td>0.0952</td>\n",
              "      <td>0.411</td>\n",
              "      <td>113.927</td>\n",
              "      <td>audio_features</td>\n",
              "      <td>1I8tHoNBFTuoJAlh4hfVVE</td>\n",
              "      <td>spotify:track:1I8tHoNBFTuoJAlh4hfVVE</td>\n",
              "      <td>https://api.spotify.com/v1/tracks/1I8tHoNBFTuo...</td>\n",
              "      <td>https://api.spotify.com/v1/audio-analysis/1I8t...</td>\n",
              "      <td>271640</td>\n",
              "      <td>4</td>\n",
              "    </tr>\n",
              "    <tr>\n",
              "      <th>4</th>\n",
              "      <td>4</td>\n",
              "      <td>Rise</td>\n",
              "      <td>2019-10-06 06:31</td>\n",
              "      <td>Jonas Blue</td>\n",
              "      <td>Rise</td>\n",
              "      <td>194407</td>\n",
              "      <td>2019-10-06 06:31:00</td>\n",
              "      <td>0.459</td>\n",
              "      <td>0.663</td>\n",
              "      <td>8</td>\n",
              "      <td>-5.939</td>\n",
              "      <td>0</td>\n",
              "      <td>0.1000</td>\n",
              "      <td>0.0169</td>\n",
              "      <td>0.000000</td>\n",
              "      <td>0.0621</td>\n",
              "      <td>0.412</td>\n",
              "      <td>176.791</td>\n",
              "      <td>audio_features</td>\n",
              "      <td>69Sy7207dnixZ6w7RSV9Kb</td>\n",
              "      <td>spotify:track:69Sy7207dnixZ6w7RSV9Kb</td>\n",
              "      <td>https://api.spotify.com/v1/tracks/69Sy7207dnix...</td>\n",
              "      <td>https://api.spotify.com/v1/audio-analysis/69Sy...</td>\n",
              "      <td>192881</td>\n",
              "      <td>4</td>\n",
              "    </tr>\n",
              "  </tbody>\n",
              "</table>\n",
              "</div>"
            ],
            "text/plain": [
              "   Unnamed: 0                         name  ... duration_ms time_signature\n",
              "0           0                       Closer  ...      244960              4\n",
              "1           1                       Sexual  ...      368317              4\n",
              "2           2  Electricity (with Dua Lipa)  ...      238173              4\n",
              "3           3                    Firestone  ...      271640              4\n",
              "4           4                         Rise  ...      192881              4\n",
              "\n",
              "[5 rows x 25 columns]"
            ]
          },
          "metadata": {
            "tags": []
          },
          "execution_count": 2
        }
      ]
    },
    {
      "cell_type": "code",
      "metadata": {
        "id": "pDUA6hmGid8X",
        "outputId": "e1c15846-74d3-4467-e64d-b916c03cefc2",
        "colab": {
          "base_uri": "https://localhost:8080/",
          "height": 119
        }
      },
      "source": [
        "df.columns"
      ],
      "execution_count": 3,
      "outputs": [
        {
          "output_type": "execute_result",
          "data": {
            "text/plain": [
              "Index(['Unnamed: 0', 'name', 'endTime', 'artistName', 'trackName', 'msPlayed',\n",
              "       'datetime', 'danceability', 'energy', 'key', 'loudness', 'mode',\n",
              "       'speechiness', 'acousticness', 'instrumentalness', 'liveness',\n",
              "       'valence', 'tempo', 'type', 'id', 'uri', 'track_href', 'analysis_url',\n",
              "       'duration_ms', 'time_signature'],\n",
              "      dtype='object')"
            ]
          },
          "metadata": {
            "tags": []
          },
          "execution_count": 3
        }
      ]
    },
    {
      "cell_type": "markdown",
      "metadata": {
        "id": "y1gIP2RioD3T"
      },
      "source": [
        "##Dropping columns\n",
        "\n",
        "There are many columns that are not required for analysis so we will drop those columns."
      ]
    },
    {
      "cell_type": "code",
      "metadata": {
        "id": "KTnh16-_4E7n"
      },
      "source": [
        "df = df.drop(columns=['Unnamed: 0', 'name', 'endTime', 'type', 'uri', 'track_href', 'analysis_url', 'duration_ms' ])"
      ],
      "execution_count": 4,
      "outputs": []
    },
    {
      "cell_type": "markdown",
      "metadata": {
        "id": "Y0lTWdV2d9CJ"
      },
      "source": [
        "## Removing Duplicates\n",
        "\n",
        "Since I have listened to a single song multiple times so there are multiple entries of single song "
      ]
    },
    {
      "cell_type": "code",
      "metadata": {
        "id": "zWo-Y9HTbu2d",
        "outputId": "24d04eff-0f36-4e23-bef2-d486184741c8",
        "colab": {
          "base_uri": "https://localhost:8080/",
          "height": 34
        }
      },
      "source": [
        "# shape before dropping duplicate rows\n",
        "df.shape"
      ],
      "execution_count": 6,
      "outputs": [
        {
          "output_type": "execute_result",
          "data": {
            "text/plain": [
              "(5731, 17)"
            ]
          },
          "metadata": {
            "tags": []
          },
          "execution_count": 6
        }
      ]
    },
    {
      "cell_type": "code",
      "metadata": {
        "id": "ZVQS7OXpcoFG"
      },
      "source": [
        "df = df.drop_duplicates( subset = 'trackName', keep = 'last')"
      ],
      "execution_count": 8,
      "outputs": []
    },
    {
      "cell_type": "code",
      "metadata": {
        "id": "KUk1PLfcb0xL",
        "outputId": "a5b10967-a63b-4c7e-a3b7-ec011a95cc24",
        "colab": {
          "base_uri": "https://localhost:8080/",
          "height": 34
        }
      },
      "source": [
        "# after dropping duplicate rows\n",
        "df.shape"
      ],
      "execution_count": 9,
      "outputs": [
        {
          "output_type": "execute_result",
          "data": {
            "text/plain": [
              "(1648, 17)"
            ]
          },
          "metadata": {
            "tags": []
          },
          "execution_count": 9
        }
      ]
    },
    {
      "cell_type": "markdown",
      "metadata": {
        "id": "O4mpKHnVoLQA"
      },
      "source": [
        "##Null check\n",
        "\n",
        "Checking for empty cells and filling them is important. Since there are no empty cells there is no need for imputation."
      ]
    },
    {
      "cell_type": "code",
      "metadata": {
        "id": "1DRZKMkf4usG",
        "outputId": "6abf779a-217b-493c-8caa-6425e6e39632",
        "colab": {
          "base_uri": "https://localhost:8080/",
          "height": 323
        }
      },
      "source": [
        "df.isnull().sum()"
      ],
      "execution_count": 10,
      "outputs": [
        {
          "output_type": "execute_result",
          "data": {
            "text/plain": [
              "artistName          0\n",
              "trackName           0\n",
              "msPlayed            0\n",
              "datetime            0\n",
              "danceability        0\n",
              "energy              0\n",
              "key                 0\n",
              "loudness            0\n",
              "mode                0\n",
              "speechiness         0\n",
              "acousticness        0\n",
              "instrumentalness    0\n",
              "liveness            0\n",
              "valence             0\n",
              "tempo               0\n",
              "id                  0\n",
              "time_signature      0\n",
              "dtype: int64"
            ]
          },
          "metadata": {
            "tags": []
          },
          "execution_count": 10
        }
      ]
    },
    {
      "cell_type": "markdown",
      "metadata": {
        "id": "aSrHrs6yoPO3"
      },
      "source": [
        "##Data Format Check\n",
        "\n",
        "In this we are checking if the attributes match with their data type."
      ]
    },
    {
      "cell_type": "code",
      "metadata": {
        "id": "-drdk3kzVNsX",
        "outputId": "059123ee-a4e2-4da3-91d7-8a586446607c",
        "colab": {
          "base_uri": "https://localhost:8080/",
          "height": 323
        }
      },
      "source": [
        "df.dtypes"
      ],
      "execution_count": 11,
      "outputs": [
        {
          "output_type": "execute_result",
          "data": {
            "text/plain": [
              "artistName           object\n",
              "trackName            object\n",
              "msPlayed              int64\n",
              "datetime             object\n",
              "danceability        float64\n",
              "energy              float64\n",
              "key                   int64\n",
              "loudness            float64\n",
              "mode                  int64\n",
              "speechiness         float64\n",
              "acousticness        float64\n",
              "instrumentalness    float64\n",
              "liveness            float64\n",
              "valence             float64\n",
              "tempo               float64\n",
              "id                   object\n",
              "time_signature        int64\n",
              "dtype: object"
            ]
          },
          "metadata": {
            "tags": []
          },
          "execution_count": 11
        }
      ]
    },
    {
      "cell_type": "markdown",
      "metadata": {
        "id": "Ml1WwHImoUcB"
      },
      "source": [
        "##Value Check\n",
        "\n",
        "In this we are checking if the content inside the cells are correct or not. So by finding the max and min of the numerical values we can determine if the values are in the acceptable range or not."
      ]
    },
    {
      "cell_type": "code",
      "metadata": {
        "id": "MCGebu5zgerb",
        "outputId": "5372b1a3-a116-48a3-a1de-5318565776f7",
        "colab": {
          "base_uri": "https://localhost:8080/",
          "height": 323
        }
      },
      "source": [
        "df.max(axis=0)"
      ],
      "execution_count": 12,
      "outputs": [
        {
          "output_type": "execute_result",
          "data": {
            "text/plain": [
              "artistName                            will.i.am\n",
              "trackName           몸매 Mommae (feat. Ugly Duck)\n",
              "msPlayed                                 458214\n",
              "datetime                    2020-10-05 04:36:00\n",
              "danceability                              0.957\n",
              "energy                                    0.984\n",
              "key                                          11\n",
              "loudness                                  0.634\n",
              "mode                                          1\n",
              "speechiness                                0.73\n",
              "acousticness                              0.983\n",
              "instrumentalness                          0.944\n",
              "liveness                                  0.977\n",
              "valence                                    0.97\n",
              "tempo                                   213.531\n",
              "id                       7zVCrzzEJU7u24sbJPXA5W\n",
              "time_signature                                5\n",
              "dtype: object"
            ]
          },
          "metadata": {
            "tags": []
          },
          "execution_count": 12
        }
      ]
    },
    {
      "cell_type": "code",
      "metadata": {
        "id": "L0dDp-Gpg7Mz",
        "outputId": "751d8f10-c313-4023-8e6f-697c02219409",
        "colab": {
          "base_uri": "https://localhost:8080/",
          "height": 323
        }
      },
      "source": [
        "df.min(axis=0)"
      ],
      "execution_count": 13,
      "outputs": [
        {
          "output_type": "execute_result",
          "data": {
            "text/plain": [
              "artistName                        2015 D&R\n",
              "trackName                       #thatPOWER\n",
              "msPlayed                                 0\n",
              "datetime               2019-10-08 10:01:00\n",
              "danceability                          0.14\n",
              "energy                              0.0257\n",
              "key                                      0\n",
              "loudness                           -29.924\n",
              "mode                                     0\n",
              "speechiness                         0.0231\n",
              "acousticness                      2.97e-05\n",
              "instrumentalness                         0\n",
              "liveness                            0.0131\n",
              "valence                             0.0388\n",
              "tempo                               49.468\n",
              "id                  00juIvfvPtZ0CfAMwEkHaV\n",
              "time_signature                           1\n",
              "dtype: object"
            ]
          },
          "metadata": {
            "tags": []
          },
          "execution_count": 13
        }
      ]
    },
    {
      "cell_type": "markdown",
      "metadata": {
        "id": "xgKhXLsN1IX8"
      },
      "source": [
        "So after performing all these checks there seems to be no issues with the dataset and hence no cleaning required."
      ]
    },
    {
      "cell_type": "code",
      "metadata": {
        "id": "J7qZ6flx1W0j"
      },
      "source": [
        "df.to_csv('dataset.csv')"
      ],
      "execution_count": 14,
      "outputs": []
    }
  ]
}