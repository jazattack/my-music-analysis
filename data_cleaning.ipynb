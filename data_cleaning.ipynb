{
  "nbformat": 4,
  "nbformat_minor": 0,
  "metadata": {
    "colab": {
      "name": "data_cleaning.ipynb",
      "provenance": []
    },
    "kernelspec": {
      "name": "python3",
      "display_name": "Python 3"
    }
  },
  "cells": [
    {
      "cell_type": "markdown",
      "metadata": {
        "id": "Sr8so99VZS8p"
      },
      "source": [
        "#Data Cleaning\n",
        "\n"
      ]
    },
    {
      "cell_type": "code",
      "metadata": {
        "id": "4UR7mSuC9sjO"
      },
      "source": [
        "import pandas as pd"
      ],
      "execution_count": 1,
      "outputs": []
    },
    {
      "cell_type": "code",
      "metadata": {
        "id": "h2AUa_wGi252",
        "outputId": "c6c9c05f-d882-4b95-ee47-a74c9ef0aa4d",
        "colab": {
          "base_uri": "https://localhost:8080/",
          "height": 411
        }
      },
      "source": [
        "df1 = pd.read_csv('/content/final.csv')\n",
        "df1.head()"
      ],
      "execution_count": 2,
      "outputs": [
        {
          "output_type": "execute_result",
          "data": {
            "text/html": [
              "<div>\n",
              "<style scoped>\n",
              "    .dataframe tbody tr th:only-of-type {\n",
              "        vertical-align: middle;\n",
              "    }\n",
              "\n",
              "    .dataframe tbody tr th {\n",
              "        vertical-align: top;\n",
              "    }\n",
              "\n",
              "    .dataframe thead th {\n",
              "        text-align: right;\n",
              "    }\n",
              "</style>\n",
              "<table border=\"1\" class=\"dataframe\">\n",
              "  <thead>\n",
              "    <tr style=\"text-align: right;\">\n",
              "      <th></th>\n",
              "      <th>Unnamed: 0</th>\n",
              "      <th>name</th>\n",
              "      <th>endTime</th>\n",
              "      <th>artistName</th>\n",
              "      <th>trackName</th>\n",
              "      <th>msPlayed</th>\n",
              "      <th>datetime</th>\n",
              "      <th>danceability</th>\n",
              "      <th>energy</th>\n",
              "      <th>key</th>\n",
              "      <th>loudness</th>\n",
              "      <th>mode</th>\n",
              "      <th>speechiness</th>\n",
              "      <th>acousticness</th>\n",
              "      <th>instrumentalness</th>\n",
              "      <th>liveness</th>\n",
              "      <th>valence</th>\n",
              "      <th>tempo</th>\n",
              "      <th>type</th>\n",
              "      <th>id</th>\n",
              "      <th>uri</th>\n",
              "      <th>track_href</th>\n",
              "      <th>analysis_url</th>\n",
              "      <th>duration_ms</th>\n",
              "      <th>time_signature</th>\n",
              "    </tr>\n",
              "  </thead>\n",
              "  <tbody>\n",
              "    <tr>\n",
              "      <th>0</th>\n",
              "      <td>0</td>\n",
              "      <td>Closer</td>\n",
              "      <td>2019-10-06 06:15</td>\n",
              "      <td>The Chainsmokers</td>\n",
              "      <td>Closer</td>\n",
              "      <td>246606</td>\n",
              "      <td>2019-10-06 06:15:00</td>\n",
              "      <td>0.748</td>\n",
              "      <td>0.524</td>\n",
              "      <td>8</td>\n",
              "      <td>-5.599</td>\n",
              "      <td>1</td>\n",
              "      <td>0.0338</td>\n",
              "      <td>0.4140</td>\n",
              "      <td>0.000000</td>\n",
              "      <td>0.1110</td>\n",
              "      <td>0.661</td>\n",
              "      <td>95.010</td>\n",
              "      <td>audio_features</td>\n",
              "      <td>7BKLCZ1jbUBVqRi2FVlTVw</td>\n",
              "      <td>spotify:track:7BKLCZ1jbUBVqRi2FVlTVw</td>\n",
              "      <td>https://api.spotify.com/v1/tracks/7BKLCZ1jbUBV...</td>\n",
              "      <td>https://api.spotify.com/v1/audio-analysis/7BKL...</td>\n",
              "      <td>244960</td>\n",
              "      <td>4</td>\n",
              "    </tr>\n",
              "    <tr>\n",
              "      <th>1</th>\n",
              "      <td>1</td>\n",
              "      <td>Sexual</td>\n",
              "      <td>2019-10-06 06:19</td>\n",
              "      <td>NEIKED</td>\n",
              "      <td>Sexual</td>\n",
              "      <td>188888</td>\n",
              "      <td>2019-10-06 06:19:00</td>\n",
              "      <td>0.689</td>\n",
              "      <td>0.680</td>\n",
              "      <td>0</td>\n",
              "      <td>-7.196</td>\n",
              "      <td>0</td>\n",
              "      <td>0.0427</td>\n",
              "      <td>0.3210</td>\n",
              "      <td>0.021100</td>\n",
              "      <td>0.0431</td>\n",
              "      <td>0.646</td>\n",
              "      <td>100.987</td>\n",
              "      <td>audio_features</td>\n",
              "      <td>0r6b45jIxQGsaWU4t6OMol</td>\n",
              "      <td>spotify:track:0r6b45jIxQGsaWU4t6OMol</td>\n",
              "      <td>https://api.spotify.com/v1/tracks/0r6b45jIxQGs...</td>\n",
              "      <td>https://api.spotify.com/v1/audio-analysis/0r6b...</td>\n",
              "      <td>368317</td>\n",
              "      <td>4</td>\n",
              "    </tr>\n",
              "    <tr>\n",
              "      <th>2</th>\n",
              "      <td>2</td>\n",
              "      <td>Electricity (with Dua Lipa)</td>\n",
              "      <td>2019-10-06 06:23</td>\n",
              "      <td>Silk City</td>\n",
              "      <td>Electricity (with Dua Lipa)</td>\n",
              "      <td>238173</td>\n",
              "      <td>2019-10-06 06:23:00</td>\n",
              "      <td>0.588</td>\n",
              "      <td>0.670</td>\n",
              "      <td>0</td>\n",
              "      <td>-6.439</td>\n",
              "      <td>1</td>\n",
              "      <td>0.0473</td>\n",
              "      <td>0.0104</td>\n",
              "      <td>0.000003</td>\n",
              "      <td>0.3380</td>\n",
              "      <td>0.505</td>\n",
              "      <td>118.159</td>\n",
              "      <td>audio_features</td>\n",
              "      <td>5N4erncE7kuUccm7zEmwzk</td>\n",
              "      <td>spotify:track:5N4erncE7kuUccm7zEmwzk</td>\n",
              "      <td>https://api.spotify.com/v1/tracks/5N4erncE7kuU...</td>\n",
              "      <td>https://api.spotify.com/v1/audio-analysis/5N4e...</td>\n",
              "      <td>238173</td>\n",
              "      <td>4</td>\n",
              "    </tr>\n",
              "    <tr>\n",
              "      <th>3</th>\n",
              "      <td>3</td>\n",
              "      <td>Firestone</td>\n",
              "      <td>2019-10-06 06:28</td>\n",
              "      <td>Kygo</td>\n",
              "      <td>Firestone</td>\n",
              "      <td>273684</td>\n",
              "      <td>2019-10-06 06:28:00</td>\n",
              "      <td>0.704</td>\n",
              "      <td>0.634</td>\n",
              "      <td>11</td>\n",
              "      <td>-7.374</td>\n",
              "      <td>0</td>\n",
              "      <td>0.0428</td>\n",
              "      <td>0.3930</td>\n",
              "      <td>0.000032</td>\n",
              "      <td>0.0952</td>\n",
              "      <td>0.411</td>\n",
              "      <td>113.927</td>\n",
              "      <td>audio_features</td>\n",
              "      <td>1I8tHoNBFTuoJAlh4hfVVE</td>\n",
              "      <td>spotify:track:1I8tHoNBFTuoJAlh4hfVVE</td>\n",
              "      <td>https://api.spotify.com/v1/tracks/1I8tHoNBFTuo...</td>\n",
              "      <td>https://api.spotify.com/v1/audio-analysis/1I8t...</td>\n",
              "      <td>271640</td>\n",
              "      <td>4</td>\n",
              "    </tr>\n",
              "    <tr>\n",
              "      <th>4</th>\n",
              "      <td>4</td>\n",
              "      <td>Rise</td>\n",
              "      <td>2019-10-06 06:31</td>\n",
              "      <td>Jonas Blue</td>\n",
              "      <td>Rise</td>\n",
              "      <td>194407</td>\n",
              "      <td>2019-10-06 06:31:00</td>\n",
              "      <td>0.459</td>\n",
              "      <td>0.663</td>\n",
              "      <td>8</td>\n",
              "      <td>-5.939</td>\n",
              "      <td>0</td>\n",
              "      <td>0.1000</td>\n",
              "      <td>0.0169</td>\n",
              "      <td>0.000000</td>\n",
              "      <td>0.0621</td>\n",
              "      <td>0.412</td>\n",
              "      <td>176.791</td>\n",
              "      <td>audio_features</td>\n",
              "      <td>69Sy7207dnixZ6w7RSV9Kb</td>\n",
              "      <td>spotify:track:69Sy7207dnixZ6w7RSV9Kb</td>\n",
              "      <td>https://api.spotify.com/v1/tracks/69Sy7207dnix...</td>\n",
              "      <td>https://api.spotify.com/v1/audio-analysis/69Sy...</td>\n",
              "      <td>192881</td>\n",
              "      <td>4</td>\n",
              "    </tr>\n",
              "  </tbody>\n",
              "</table>\n",
              "</div>"
            ],
            "text/plain": [
              "   Unnamed: 0                         name  ... duration_ms time_signature\n",
              "0           0                       Closer  ...      244960              4\n",
              "1           1                       Sexual  ...      368317              4\n",
              "2           2  Electricity (with Dua Lipa)  ...      238173              4\n",
              "3           3                    Firestone  ...      271640              4\n",
              "4           4                         Rise  ...      192881              4\n",
              "\n",
              "[5 rows x 25 columns]"
            ]
          },
          "metadata": {
            "tags": []
          },
          "execution_count": 2
        }
      ]
    },
    {
      "cell_type": "code",
      "metadata": {
        "id": "pDUA6hmGid8X",
        "outputId": "848c1fa8-4e7f-48ba-b7ac-83bd4f571619",
        "colab": {
          "base_uri": "https://localhost:8080/",
          "height": 119
        }
      },
      "source": [
        "df1.columns"
      ],
      "execution_count": 3,
      "outputs": [
        {
          "output_type": "execute_result",
          "data": {
            "text/plain": [
              "Index(['Unnamed: 0', 'name', 'endTime', 'artistName', 'trackName', 'msPlayed',\n",
              "       'datetime', 'danceability', 'energy', 'key', 'loudness', 'mode',\n",
              "       'speechiness', 'acousticness', 'instrumentalness', 'liveness',\n",
              "       'valence', 'tempo', 'type', 'id', 'uri', 'track_href', 'analysis_url',\n",
              "       'duration_ms', 'time_signature'],\n",
              "      dtype='object')"
            ]
          },
          "metadata": {
            "tags": []
          },
          "execution_count": 3
        }
      ]
    },
    {
      "cell_type": "code",
      "metadata": {
        "id": "FJ5-LKs41VLm",
        "outputId": "00b2d3e2-9837-46d4-dc83-cd0589a6bb41",
        "colab": {
          "base_uri": "https://localhost:8080/",
          "height": 462
        }
      },
      "source": [
        "df2 = pd.read_csv('/content/playlist.csv')\n",
        "df2.head()"
      ],
      "execution_count": 4,
      "outputs": [
        {
          "output_type": "execute_result",
          "data": {
            "text/html": [
              "<div>\n",
              "<style scoped>\n",
              "    .dataframe tbody tr th:only-of-type {\n",
              "        vertical-align: middle;\n",
              "    }\n",
              "\n",
              "    .dataframe tbody tr th {\n",
              "        vertical-align: top;\n",
              "    }\n",
              "\n",
              "    .dataframe thead th {\n",
              "        text-align: right;\n",
              "    }\n",
              "</style>\n",
              "<table border=\"1\" class=\"dataframe\">\n",
              "  <thead>\n",
              "    <tr style=\"text-align: right;\">\n",
              "      <th></th>\n",
              "      <th>Unnamed: 0</th>\n",
              "      <th>id</th>\n",
              "      <th>spotify_id</th>\n",
              "      <th>list_name</th>\n",
              "      <th>list_id</th>\n",
              "      <th>song_id</th>\n",
              "      <th>song_name</th>\n",
              "      <th>artist</th>\n",
              "      <th>popularity</th>\n",
              "      <th>release_date</th>\n",
              "      <th>energy</th>\n",
              "      <th>liveness</th>\n",
              "      <th>tempo</th>\n",
              "      <th>speechiness</th>\n",
              "      <th>acousticness</th>\n",
              "      <th>instrumentalness</th>\n",
              "      <th>danceability</th>\n",
              "      <th>duration_ms</th>\n",
              "      <th>loudness</th>\n",
              "      <th>valence</th>\n",
              "      <th>mode</th>\n",
              "      <th>key</th>\n",
              "    </tr>\n",
              "  </thead>\n",
              "  <tbody>\n",
              "    <tr>\n",
              "      <th>0</th>\n",
              "      <td>0</td>\n",
              "      <td>1</td>\n",
              "      <td>1MRTKMPBOK8wTd5Q3a8c3e</td>\n",
              "      <td>Hip-hop/Rap</td>\n",
              "      <td>1MRTKMPBOK8wTd5Q3a8c3e</td>\n",
              "      <td>49NWFeDYeNBx55vxxmwCQe</td>\n",
              "      <td>45 Man - Bonus Track</td>\n",
              "      <td>Rak-Su</td>\n",
              "      <td>17</td>\n",
              "      <td>2017-04-03</td>\n",
              "      <td>0.883</td>\n",
              "      <td>0.0818</td>\n",
              "      <td>140.058</td>\n",
              "      <td>0.2760</td>\n",
              "      <td>0.0223</td>\n",
              "      <td>0.000</td>\n",
              "      <td>0.664</td>\n",
              "      <td>206530</td>\n",
              "      <td>-5.671</td>\n",
              "      <td>0.695</td>\n",
              "      <td>1</td>\n",
              "      <td>1</td>\n",
              "    </tr>\n",
              "    <tr>\n",
              "      <th>1</th>\n",
              "      <td>1</td>\n",
              "      <td>2</td>\n",
              "      <td>54Li3lQX4xRBaV3qRgK5ZH</td>\n",
              "      <td>Country</td>\n",
              "      <td>54Li3lQX4xRBaV3qRgK5ZH</td>\n",
              "      <td>2bCBowfjQbsT6jXEqpGqDx</td>\n",
              "      <td>Geronimo - From \"Alvin And The Chipmunks: The ...</td>\n",
              "      <td>Sheppard</td>\n",
              "      <td>36</td>\n",
              "      <td>2015-12-11</td>\n",
              "      <td>0.763</td>\n",
              "      <td>0.1380</td>\n",
              "      <td>142.037</td>\n",
              "      <td>0.0818</td>\n",
              "      <td>0.3780</td>\n",
              "      <td>0.002</td>\n",
              "      <td>0.704</td>\n",
              "      <td>217653</td>\n",
              "      <td>-6.343</td>\n",
              "      <td>0.468</td>\n",
              "      <td>1</td>\n",
              "      <td>7</td>\n",
              "    </tr>\n",
              "    <tr>\n",
              "      <th>2</th>\n",
              "      <td>2</td>\n",
              "      <td>3</td>\n",
              "      <td>5XplGgQBmRqV3yofTz46HA</td>\n",
              "      <td>Jason derulo</td>\n",
              "      <td>5XplGgQBmRqV3yofTz46HA</td>\n",
              "      <td>6kex4EBAj0WHXDKZMEJaaF</td>\n",
              "      <td>Swalla (feat. Nicki Minaj &amp; Ty Dolla $ign)</td>\n",
              "      <td>Jason Derulo</td>\n",
              "      <td>77</td>\n",
              "      <td>2017-02-23</td>\n",
              "      <td>0.817</td>\n",
              "      <td>0.1870</td>\n",
              "      <td>98.064</td>\n",
              "      <td>0.1090</td>\n",
              "      <td>0.0750</td>\n",
              "      <td>0.000</td>\n",
              "      <td>0.696</td>\n",
              "      <td>216409</td>\n",
              "      <td>-3.862</td>\n",
              "      <td>0.782</td>\n",
              "      <td>1</td>\n",
              "      <td>1</td>\n",
              "    </tr>\n",
              "    <tr>\n",
              "      <th>3</th>\n",
              "      <td>3</td>\n",
              "      <td>3</td>\n",
              "      <td>5XplGgQBmRqV3yofTz46HA</td>\n",
              "      <td>Jason derulo</td>\n",
              "      <td>5XplGgQBmRqV3yofTz46HA</td>\n",
              "      <td>4fINc8dnfcz7AdhFYVA4i7</td>\n",
              "      <td>It Girl</td>\n",
              "      <td>Jason Derulo</td>\n",
              "      <td>74</td>\n",
              "      <td>2011-09-16</td>\n",
              "      <td>0.718</td>\n",
              "      <td>0.1040</td>\n",
              "      <td>91.993</td>\n",
              "      <td>0.0605</td>\n",
              "      <td>0.0165</td>\n",
              "      <td>0.000</td>\n",
              "      <td>0.668</td>\n",
              "      <td>192200</td>\n",
              "      <td>-4.736</td>\n",
              "      <td>0.345</td>\n",
              "      <td>0</td>\n",
              "      <td>1</td>\n",
              "    </tr>\n",
              "    <tr>\n",
              "      <th>4</th>\n",
              "      <td>4</td>\n",
              "      <td>3</td>\n",
              "      <td>5XplGgQBmRqV3yofTz46HA</td>\n",
              "      <td>Jason derulo</td>\n",
              "      <td>5XplGgQBmRqV3yofTz46HA</td>\n",
              "      <td>2z4pcBLQXF2BXKFvd0BuB6</td>\n",
              "      <td>Tip Toe (feat. French Montana)</td>\n",
              "      <td>Jason Derulo</td>\n",
              "      <td>69</td>\n",
              "      <td>2017-11-10</td>\n",
              "      <td>0.709</td>\n",
              "      <td>0.0940</td>\n",
              "      <td>98.062</td>\n",
              "      <td>0.0714</td>\n",
              "      <td>0.0233</td>\n",
              "      <td>0.000</td>\n",
              "      <td>0.845</td>\n",
              "      <td>187521</td>\n",
              "      <td>-4.547</td>\n",
              "      <td>0.620</td>\n",
              "      <td>0</td>\n",
              "      <td>10</td>\n",
              "    </tr>\n",
              "  </tbody>\n",
              "</table>\n",
              "</div>"
            ],
            "text/plain": [
              "   Unnamed: 0  id              spotify_id  ... valence mode key\n",
              "0           0   1  1MRTKMPBOK8wTd5Q3a8c3e  ...   0.695    1   1\n",
              "1           1   2  54Li3lQX4xRBaV3qRgK5ZH  ...   0.468    1   7\n",
              "2           2   3  5XplGgQBmRqV3yofTz46HA  ...   0.782    1   1\n",
              "3           3   3  5XplGgQBmRqV3yofTz46HA  ...   0.345    0   1\n",
              "4           4   3  5XplGgQBmRqV3yofTz46HA  ...   0.620    0  10\n",
              "\n",
              "[5 rows x 22 columns]"
            ]
          },
          "metadata": {
            "tags": []
          },
          "execution_count": 4
        }
      ]
    },
    {
      "cell_type": "code",
      "metadata": {
        "id": "hvrzCw4A1dYv",
        "outputId": "37898551-5c95-44c6-b27e-61ab4de5ea3a",
        "colab": {
          "base_uri": "https://localhost:8080/",
          "height": 102
        }
      },
      "source": [
        "df2.columns"
      ],
      "execution_count": 5,
      "outputs": [
        {
          "output_type": "execute_result",
          "data": {
            "text/plain": [
              "Index(['Unnamed: 0', 'id', 'spotify_id', 'list_name', 'list_id', 'song_id',\n",
              "       'song_name', 'artist', 'popularity', 'release_date', 'energy',\n",
              "       'liveness', 'tempo', 'speechiness', 'acousticness', 'instrumentalness',\n",
              "       'danceability', 'duration_ms', 'loudness', 'valence', 'mode', 'key'],\n",
              "      dtype='object')"
            ]
          },
          "metadata": {
            "tags": []
          },
          "execution_count": 5
        }
      ]
    },
    {
      "cell_type": "markdown",
      "metadata": {
        "id": "y1gIP2RioD3T"
      },
      "source": [
        "##Dropping columns\n",
        "\n",
        "There are many columns that are not required for analysis so we will drop those columns."
      ]
    },
    {
      "cell_type": "code",
      "metadata": {
        "id": "KTnh16-_4E7n"
      },
      "source": [
        "df1 = df1.drop(columns=['Unnamed: 0', 'name', 'endTime', 'type', 'uri', 'track_href', 'analysis_url', 'duration_ms' ])\n",
        "df2 = df2.drop(columns=['Unnamed: 0', 'id', 'spotify_id', 'list_id' ])"
      ],
      "execution_count": 6,
      "outputs": []
    },
    {
      "cell_type": "markdown",
      "metadata": {
        "id": "Y0lTWdV2d9CJ"
      },
      "source": [
        "## Removing Duplicates\n",
        "\n",
        "Since I have listened to a single song multiple times so there are multiple entries of single song "
      ]
    },
    {
      "cell_type": "code",
      "metadata": {
        "id": "zWo-Y9HTbu2d",
        "outputId": "494f552a-2f4a-4019-fe28-50ec7a01b5e5",
        "colab": {
          "base_uri": "https://localhost:8080/",
          "height": 34
        }
      },
      "source": [
        "# shape before dropping duplicate rows\n",
        "df1.shape"
      ],
      "execution_count": 7,
      "outputs": [
        {
          "output_type": "execute_result",
          "data": {
            "text/plain": [
              "(5731, 17)"
            ]
          },
          "metadata": {
            "tags": []
          },
          "execution_count": 7
        }
      ]
    },
    {
      "cell_type": "code",
      "metadata": {
        "id": "s0Ut8ufO5xbL",
        "outputId": "f3620d9d-f38e-4a94-e06c-1bcfbbe792dd",
        "colab": {
          "base_uri": "https://localhost:8080/",
          "height": 34
        }
      },
      "source": [
        "df2.shape"
      ],
      "execution_count": 8,
      "outputs": [
        {
          "output_type": "execute_result",
          "data": {
            "text/plain": [
              "(188, 18)"
            ]
          },
          "metadata": {
            "tags": []
          },
          "execution_count": 8
        }
      ]
    },
    {
      "cell_type": "code",
      "metadata": {
        "id": "ZVQS7OXpcoFG"
      },
      "source": [
        "df1 = df1.drop_duplicates( subset = 'trackName', keep = 'last')\n",
        "df2 = df2.drop_duplicates( subset = 'song_name', keep = 'last')"
      ],
      "execution_count": 10,
      "outputs": []
    },
    {
      "cell_type": "code",
      "metadata": {
        "id": "KUk1PLfcb0xL",
        "outputId": "4f22bf29-f79b-4362-d395-7e8caf5040dc",
        "colab": {
          "base_uri": "https://localhost:8080/",
          "height": 34
        }
      },
      "source": [
        "# after dropping duplicate rows\n",
        "df1.shape"
      ],
      "execution_count": 11,
      "outputs": [
        {
          "output_type": "execute_result",
          "data": {
            "text/plain": [
              "(1648, 17)"
            ]
          },
          "metadata": {
            "tags": []
          },
          "execution_count": 11
        }
      ]
    },
    {
      "cell_type": "code",
      "metadata": {
        "id": "tdAw50bF5_Cy",
        "outputId": "1c259aa3-0b7d-4cb6-a73e-0225646aa821",
        "colab": {
          "base_uri": "https://localhost:8080/",
          "height": 34
        }
      },
      "source": [
        "df2.shape"
      ],
      "execution_count": 12,
      "outputs": [
        {
          "output_type": "execute_result",
          "data": {
            "text/plain": [
              "(135, 18)"
            ]
          },
          "metadata": {
            "tags": []
          },
          "execution_count": 12
        }
      ]
    },
    {
      "cell_type": "markdown",
      "metadata": {
        "id": "O4mpKHnVoLQA"
      },
      "source": [
        "##Null check\n",
        "\n",
        "Checking for empty cells and filling them is important. Since there are no empty cells there is no need for imputation."
      ]
    },
    {
      "cell_type": "code",
      "metadata": {
        "id": "1DRZKMkf4usG",
        "outputId": "9fdff8de-1bee-4513-a315-2ffa2fd6c0b0",
        "colab": {
          "base_uri": "https://localhost:8080/",
          "height": 323
        }
      },
      "source": [
        "df1.isnull().sum()"
      ],
      "execution_count": 13,
      "outputs": [
        {
          "output_type": "execute_result",
          "data": {
            "text/plain": [
              "artistName          0\n",
              "trackName           0\n",
              "msPlayed            0\n",
              "datetime            0\n",
              "danceability        0\n",
              "energy              0\n",
              "key                 0\n",
              "loudness            0\n",
              "mode                0\n",
              "speechiness         0\n",
              "acousticness        0\n",
              "instrumentalness    0\n",
              "liveness            0\n",
              "valence             0\n",
              "tempo               0\n",
              "id                  0\n",
              "time_signature      0\n",
              "dtype: int64"
            ]
          },
          "metadata": {
            "tags": []
          },
          "execution_count": 13
        }
      ]
    },
    {
      "cell_type": "code",
      "metadata": {
        "id": "nOhCEsvp6Dvd",
        "outputId": "a2f79260-3ccb-4c8e-b6a2-ae81e93b0f84",
        "colab": {
          "base_uri": "https://localhost:8080/",
          "height": 340
        }
      },
      "source": [
        "df2.isnull().sum()"
      ],
      "execution_count": 14,
      "outputs": [
        {
          "output_type": "execute_result",
          "data": {
            "text/plain": [
              "list_name           0\n",
              "song_id             0\n",
              "song_name           0\n",
              "artist              0\n",
              "popularity          0\n",
              "release_date        0\n",
              "energy              0\n",
              "liveness            0\n",
              "tempo               0\n",
              "speechiness         0\n",
              "acousticness        0\n",
              "instrumentalness    0\n",
              "danceability        0\n",
              "duration_ms         0\n",
              "loudness            0\n",
              "valence             0\n",
              "mode                0\n",
              "key                 0\n",
              "dtype: int64"
            ]
          },
          "metadata": {
            "tags": []
          },
          "execution_count": 14
        }
      ]
    },
    {
      "cell_type": "markdown",
      "metadata": {
        "id": "aSrHrs6yoPO3"
      },
      "source": [
        "##Data Format Check\n",
        "\n",
        "In this we are checking if the attributes match with their data type."
      ]
    },
    {
      "cell_type": "code",
      "metadata": {
        "id": "-drdk3kzVNsX",
        "outputId": "726e5ef7-ff88-4b18-ec45-ddf6e3290dd6",
        "colab": {
          "base_uri": "https://localhost:8080/",
          "height": 323
        }
      },
      "source": [
        "df1.dtypes"
      ],
      "execution_count": 15,
      "outputs": [
        {
          "output_type": "execute_result",
          "data": {
            "text/plain": [
              "artistName           object\n",
              "trackName            object\n",
              "msPlayed              int64\n",
              "datetime             object\n",
              "danceability        float64\n",
              "energy              float64\n",
              "key                   int64\n",
              "loudness            float64\n",
              "mode                  int64\n",
              "speechiness         float64\n",
              "acousticness        float64\n",
              "instrumentalness    float64\n",
              "liveness            float64\n",
              "valence             float64\n",
              "tempo               float64\n",
              "id                   object\n",
              "time_signature        int64\n",
              "dtype: object"
            ]
          },
          "metadata": {
            "tags": []
          },
          "execution_count": 15
        }
      ]
    },
    {
      "cell_type": "code",
      "metadata": {
        "id": "RjwGgZTT6IKs",
        "outputId": "c8949f2f-e67d-435f-e4a5-6062b6cda645",
        "colab": {
          "base_uri": "https://localhost:8080/",
          "height": 340
        }
      },
      "source": [
        "df2.dtypes"
      ],
      "execution_count": 16,
      "outputs": [
        {
          "output_type": "execute_result",
          "data": {
            "text/plain": [
              "list_name            object\n",
              "song_id              object\n",
              "song_name            object\n",
              "artist               object\n",
              "popularity            int64\n",
              "release_date         object\n",
              "energy              float64\n",
              "liveness            float64\n",
              "tempo               float64\n",
              "speechiness         float64\n",
              "acousticness        float64\n",
              "instrumentalness    float64\n",
              "danceability        float64\n",
              "duration_ms           int64\n",
              "loudness            float64\n",
              "valence             float64\n",
              "mode                  int64\n",
              "key                   int64\n",
              "dtype: object"
            ]
          },
          "metadata": {
            "tags": []
          },
          "execution_count": 16
        }
      ]
    },
    {
      "cell_type": "markdown",
      "metadata": {
        "id": "Ml1WwHImoUcB"
      },
      "source": [
        "##Value Check\n",
        "\n",
        "In this we are checking if the content inside the cells are correct or not. So by finding the max and min of the numerical values we can determine if the values are in the acceptable range or not."
      ]
    },
    {
      "cell_type": "code",
      "metadata": {
        "id": "MCGebu5zgerb",
        "outputId": "2422be2f-40d8-473c-82fc-3d462b8a17e3",
        "colab": {
          "base_uri": "https://localhost:8080/",
          "height": 323
        }
      },
      "source": [
        "df1.max(axis=0)"
      ],
      "execution_count": 17,
      "outputs": [
        {
          "output_type": "execute_result",
          "data": {
            "text/plain": [
              "artistName                            will.i.am\n",
              "trackName           몸매 Mommae (feat. Ugly Duck)\n",
              "msPlayed                                 458214\n",
              "datetime                    2020-10-05 04:36:00\n",
              "danceability                              0.957\n",
              "energy                                    0.984\n",
              "key                                          11\n",
              "loudness                                  0.634\n",
              "mode                                          1\n",
              "speechiness                                0.73\n",
              "acousticness                              0.983\n",
              "instrumentalness                          0.944\n",
              "liveness                                  0.977\n",
              "valence                                    0.97\n",
              "tempo                                   213.531\n",
              "id                       7zVCrzzEJU7u24sbJPXA5W\n",
              "time_signature                                5\n",
              "dtype: object"
            ]
          },
          "metadata": {
            "tags": []
          },
          "execution_count": 17
        }
      ]
    },
    {
      "cell_type": "code",
      "metadata": {
        "id": "L0dDp-Gpg7Mz",
        "outputId": "94710c30-e563-47f6-d9dc-c767c7368470",
        "colab": {
          "base_uri": "https://localhost:8080/",
          "height": 323
        }
      },
      "source": [
        "df1.min(axis=0)"
      ],
      "execution_count": 18,
      "outputs": [
        {
          "output_type": "execute_result",
          "data": {
            "text/plain": [
              "artistName                        2015 D&R\n",
              "trackName                       #thatPOWER\n",
              "msPlayed                                 0\n",
              "datetime               2019-10-08 10:01:00\n",
              "danceability                          0.14\n",
              "energy                              0.0257\n",
              "key                                      0\n",
              "loudness                           -29.924\n",
              "mode                                     0\n",
              "speechiness                         0.0231\n",
              "acousticness                      2.97e-05\n",
              "instrumentalness                         0\n",
              "liveness                            0.0131\n",
              "valence                             0.0388\n",
              "tempo                               49.468\n",
              "id                  00juIvfvPtZ0CfAMwEkHaV\n",
              "time_signature                           1\n",
              "dtype: object"
            ]
          },
          "metadata": {
            "tags": []
          },
          "execution_count": 18
        }
      ]
    },
    {
      "cell_type": "code",
      "metadata": {
        "id": "_zmg3Rp46OAu",
        "outputId": "02dce1f1-18cb-49ae-ff36-b8bfee95892b",
        "colab": {
          "base_uri": "https://localhost:8080/",
          "height": 340
        }
      },
      "source": [
        "df2.max(axis=0)"
      ],
      "execution_count": 19,
      "outputs": [
        {
          "output_type": "execute_result",
          "data": {
            "text/plain": [
              "list_name                    Yash ke gaane\n",
              "song_id             7yPcAO4F6ozQi6lTi3n3Ai\n",
              "song_name                       clementine\n",
              "artist                           will.i.am\n",
              "popularity                              94\n",
              "release_date                    2020-08-24\n",
              "energy                               0.977\n",
              "liveness                             0.977\n",
              "tempo                              191.772\n",
              "speechiness                          0.463\n",
              "acousticness                         0.954\n",
              "instrumentalness                     0.531\n",
              "danceability                         0.899\n",
              "duration_ms                         303598\n",
              "loudness                            -2.097\n",
              "valence                               0.95\n",
              "mode                                     1\n",
              "key                                     11\n",
              "dtype: object"
            ]
          },
          "metadata": {
            "tags": []
          },
          "execution_count": 19
        }
      ]
    },
    {
      "cell_type": "code",
      "metadata": {
        "id": "QQHCCoRd6Q5j",
        "outputId": "88b00934-2c94-4cec-fac1-f51c15e55d35",
        "colab": {
          "base_uri": "https://localhost:8080/",
          "height": 340
        }
      },
      "source": [
        "df2.min(axis=0)"
      ],
      "execution_count": 20,
      "outputs": [
        {
          "output_type": "execute_result",
          "data": {
            "text/plain": [
              "list_name                        Beats/EDM\n",
              "song_id             01TuObJVd7owWchVRuQbQw\n",
              "song_name                       #thatPOWER\n",
              "artist                                3LAU\n",
              "popularity                               0\n",
              "release_date                          1971\n",
              "energy                              0.0784\n",
              "liveness                            0.0331\n",
              "tempo                               74.103\n",
              "speechiness                         0.0257\n",
              "acousticness                      0.000554\n",
              "instrumentalness                         0\n",
              "danceability                         0.294\n",
              "duration_ms                         111852\n",
              "loudness                           -11.531\n",
              "valence                              0.105\n",
              "mode                                     0\n",
              "key                                      0\n",
              "dtype: object"
            ]
          },
          "metadata": {
            "tags": []
          },
          "execution_count": 20
        }
      ]
    },
    {
      "cell_type": "markdown",
      "metadata": {
        "id": "xgKhXLsN1IX8"
      },
      "source": [
        "So after performing all these checks there seems to be no issues with the dataset and hence no cleaning required."
      ]
    },
    {
      "cell_type": "code",
      "metadata": {
        "id": "J7qZ6flx1W0j"
      },
      "source": [
        "df1.to_csv('dataset.csv')\n",
        "df2.to_csv('playlist_data.csv')"
      ],
      "execution_count": 21,
      "outputs": []
    }
  ]
}